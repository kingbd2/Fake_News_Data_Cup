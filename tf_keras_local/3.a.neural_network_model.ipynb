{
 "cells": [
  {
   "cell_type": "code",
   "execution_count": 17,
   "metadata": {},
   "outputs": [
    {
     "data": {
      "text/plain": [
       "'/home/bking/Projects/poetry/Fake_News_Data_Cup/tf_keras_local'"
      ]
     },
     "execution_count": 17,
     "metadata": {},
     "output_type": "execute_result"
    }
   ],
   "source": [
    "import os\n",
    "os.getcwd()"
   ]
  },
  {
   "cell_type": "code",
   "execution_count": 31,
   "metadata": {},
   "outputs": [],
   "source": [
    "from tensorflow.python.keras.preprocessing.text import Tokenizer\n",
    "from tensorflow.python.keras.preprocessing.sequence import pad_sequences\n",
    "from keras.models import Sequential\n",
    "from keras.layers import Dense, Embedding, LSTM, GRU\n",
    "from keras.layers.embeddings import Embedding\n",
    "import pickle"
   ]
  },
  {
   "cell_type": "markdown",
   "metadata": {},
   "source": [
    "# Load data"
   ]
  },
  {
   "cell_type": "code",
   "execution_count": 40,
   "metadata": {},
   "outputs": [],
   "source": [
    "article_df = pickle.load(open('../data/article_df.pkl', 'rb'))['article_df']\n",
    "article_df_enriched = pickle.load(open('../data/article_df_enriched.pkl', 'rb'))['article_df_enriched']\n",
    "train_df = pickle.load(open('../data/20191111-1_train_df_concat_articles.pkl', 'rb'))"
   ]
  },
  {
   "cell_type": "markdown",
   "metadata": {},
   "source": [
    "# Tokenize"
   ]
  },
  {
   "cell_type": "code",
   "execution_count": 41,
   "metadata": {},
   "outputs": [
    {
     "data": {
      "text/html": [
       "<div>\n",
       "<style scoped>\n",
       "    .dataframe tbody tr th:only-of-type {\n",
       "        vertical-align: middle;\n",
       "    }\n",
       "\n",
       "    .dataframe tbody tr th {\n",
       "        vertical-align: top;\n",
       "    }\n",
       "\n",
       "    .dataframe thead th {\n",
       "        text-align: right;\n",
       "    }\n",
       "</style>\n",
       "<table border=\"1\" class=\"dataframe\">\n",
       "  <thead>\n",
       "    <tr style=\"text-align: right;\">\n",
       "      <th></th>\n",
       "      <th>claim</th>\n",
       "      <th>claimant</th>\n",
       "      <th>date</th>\n",
       "      <th>label</th>\n",
       "      <th>related_articles</th>\n",
       "      <th>id</th>\n",
       "      <th>num_related_articles</th>\n",
       "      <th>claim_nltk_sentiment</th>\n",
       "      <th>related_article_text</th>\n",
       "    </tr>\n",
       "  </thead>\n",
       "  <tbody>\n",
       "    <tr>\n",
       "      <th>0</th>\n",
       "      <td>A line from George Orwell's novel 1984 predict...</td>\n",
       "      <td>anon</td>\n",
       "      <td>2017-07-17</td>\n",
       "      <td>0</td>\n",
       "      <td>[122094, 122580, 130685, 134765]</td>\n",
       "      <td>0</td>\n",
       "      <td>4</td>\n",
       "      <td>[0.173, 0.0, 0.827, 0.3182]</td>\n",
       "      <td>['1984: George Orwell predicted 2017 almost 7...</td>\n",
       "    </tr>\n",
       "    <tr>\n",
       "      <th>1</th>\n",
       "      <td>Maine legislature candidate Leslie Gibson insu...</td>\n",
       "      <td>anon</td>\n",
       "      <td>2018-03-17</td>\n",
       "      <td>2</td>\n",
       "      <td>[106868, 127320, 128060]</td>\n",
       "      <td>1</td>\n",
       "      <td>3</td>\n",
       "      <td>[0.133, 0.176, 0.691, -0.2023]</td>\n",
       "      <td>['Republican who criticized Parkland students...</td>\n",
       "    </tr>\n",
       "    <tr>\n",
       "      <th>2</th>\n",
       "      <td>A 17-year-old girl named Alyssa Carson is bein...</td>\n",
       "      <td>anon</td>\n",
       "      <td>2018-07-18</td>\n",
       "      <td>1</td>\n",
       "      <td>[132130, 132132, 149722]</td>\n",
       "      <td>4</td>\n",
       "      <td>3</td>\n",
       "      <td>[0.0, 0.0, 1.0, 0.0]</td>\n",
       "      <td>['FIRST PERSON TO COMPLETE NASA’S PASSPORT PR...</td>\n",
       "    </tr>\n",
       "    <tr>\n",
       "      <th>3</th>\n",
       "      <td>In 1988 author Roald Dahl penned an open lette...</td>\n",
       "      <td>anon</td>\n",
       "      <td>2019-02-04</td>\n",
       "      <td>2</td>\n",
       "      <td>[123254, 123418, 127464]</td>\n",
       "      <td>5</td>\n",
       "      <td>3</td>\n",
       "      <td>[0.0, 0.0, 1.0, 0.0]</td>\n",
       "      <td>['The Mourning After : People.com\\nContributo...</td>\n",
       "    </tr>\n",
       "    <tr>\n",
       "      <th>4</th>\n",
       "      <td>When it comes to fighting terrorism, \"Another ...</td>\n",
       "      <td>Hillary Clinton</td>\n",
       "      <td>2016-03-22</td>\n",
       "      <td>2</td>\n",
       "      <td>[41099, 89899, 72543, 82644, 95344, 88361]</td>\n",
       "      <td>6</td>\n",
       "      <td>6</td>\n",
       "      <td>[0.0, 0.344, 0.656, -0.9001]</td>\n",
       "      <td>['Patrick G. Eddington is a policy analyst in...</td>\n",
       "    </tr>\n",
       "  </tbody>\n",
       "</table>\n",
       "</div>"
      ],
      "text/plain": [
       "                                               claim         claimant  \\\n",
       "0  A line from George Orwell's novel 1984 predict...             anon   \n",
       "1  Maine legislature candidate Leslie Gibson insu...             anon   \n",
       "2  A 17-year-old girl named Alyssa Carson is bein...             anon   \n",
       "3  In 1988 author Roald Dahl penned an open lette...             anon   \n",
       "4  When it comes to fighting terrorism, \"Another ...  Hillary Clinton   \n",
       "\n",
       "         date  label                            related_articles  id  \\\n",
       "0  2017-07-17      0            [122094, 122580, 130685, 134765]   0   \n",
       "1  2018-03-17      2                    [106868, 127320, 128060]   1   \n",
       "2  2018-07-18      1                    [132130, 132132, 149722]   4   \n",
       "3  2019-02-04      2                    [123254, 123418, 127464]   5   \n",
       "4  2016-03-22      2  [41099, 89899, 72543, 82644, 95344, 88361]   6   \n",
       "\n",
       "   num_related_articles            claim_nltk_sentiment  \\\n",
       "0                     4     [0.173, 0.0, 0.827, 0.3182]   \n",
       "1                     3  [0.133, 0.176, 0.691, -0.2023]   \n",
       "2                     3            [0.0, 0.0, 1.0, 0.0]   \n",
       "3                     3            [0.0, 0.0, 1.0, 0.0]   \n",
       "4                     6    [0.0, 0.344, 0.656, -0.9001]   \n",
       "\n",
       "                                related_article_text  \n",
       "0   ['1984: George Orwell predicted 2017 almost 7...  \n",
       "1   ['Republican who criticized Parkland students...  \n",
       "2   ['FIRST PERSON TO COMPLETE NASA’S PASSPORT PR...  \n",
       "3   ['The Mourning After : People.com\\nContributo...  \n",
       "4   ['Patrick G. Eddington is a policy analyst in...  "
      ]
     },
     "execution_count": 41,
     "metadata": {},
     "output_type": "execute_result"
    }
   ],
   "source": [
    "train_df.head()"
   ]
  },
  {
   "cell_type": "code",
   "execution_count": 42,
   "metadata": {},
   "outputs": [],
   "source": [
    "tker_object = Tokenizer()\n",
    "all_articles = train_df['related_article_text']\n",
    "tker_object.fit_on_texts(all_articles)"
   ]
  },
  {
   "cell_type": "code",
   "execution_count": 43,
   "metadata": {},
   "outputs": [
    {
     "data": {
      "text/plain": [
       "<keras_preprocessing.text.Tokenizer at 0x7ff4e76d7f50>"
      ]
     },
     "execution_count": 43,
     "metadata": {},
     "output_type": "execute_result"
    }
   ],
   "source": [
    "tker_object"
   ]
  },
  {
   "cell_type": "code",
   "execution_count": 44,
   "metadata": {},
   "outputs": [],
   "source": [
    "# pad sequences\n",
    "max_length = max([len(s.split()) for s in all_articles])"
   ]
  },
  {
   "cell_type": "code",
   "execution_count": 45,
   "metadata": {},
   "outputs": [
    {
     "data": {
      "text/plain": [
       "401401"
      ]
     },
     "execution_count": 45,
     "metadata": {},
     "output_type": "execute_result"
    }
   ],
   "source": [
    "vocab_size = len(tker_object.word_index) + 1\n",
    "vocab_size"
   ]
  },
  {
   "cell_type": "code",
   "execution_count": 46,
   "metadata": {},
   "outputs": [
    {
     "ename": "TypeError",
     "evalue": "texts_to_sequences() missing 1 required positional argument: 'texts'",
     "output_type": "error",
     "traceback": [
      "\u001b[0;31m---------------------------------------------------------------------------\u001b[0m",
      "\u001b[0;31mTypeError\u001b[0m                                 Traceback (most recent call last)",
      "\u001b[0;32m<ipython-input-46-1af8166773c6>\u001b[0m in \u001b[0;36m<module>\u001b[0;34m\u001b[0m\n\u001b[0;32m----> 1\u001b[0;31m \u001b[0mX_train_tokens\u001b[0m \u001b[0;34m=\u001b[0m \u001b[0mtker_object\u001b[0m\u001b[0;34m.\u001b[0m\u001b[0mtexts_to_sequences\u001b[0m\u001b[0;34m(\u001b[0m\u001b[0;34m)\u001b[0m\u001b[0;34m\u001b[0m\u001b[0;34m\u001b[0m\u001b[0m\n\u001b[0m",
      "\u001b[0;31mTypeError\u001b[0m: texts_to_sequences() missing 1 required positional argument: 'texts'"
     ]
    }
   ],
   "source": [
    "X_train_tokens = tker_object.texts_to_sequences()"
   ]
  },
  {
   "cell_type": "code",
   "execution_count": 5,
   "metadata": {},
   "outputs": [],
   "source": [
    "EMBEDDING_DIM = 100"
   ]
  },
  {
   "cell_type": "code",
   "execution_count": 6,
   "metadata": {},
   "outputs": [],
   "source": [
    "# Build the model\n",
    "model = Sequential()"
   ]
  },
  {
   "cell_type": "code",
   "execution_count": 7,
   "metadata": {},
   "outputs": [
    {
     "ename": "NameError",
     "evalue": "name 'vocab_size' is not defined",
     "output_type": "error",
     "traceback": [
      "\u001b[0;31m---------------------------------------------------------------------------\u001b[0m",
      "\u001b[0;31mNameError\u001b[0m                                 Traceback (most recent call last)",
      "\u001b[0;32m<ipython-input-7-ed7d3e4e3482>\u001b[0m in \u001b[0;36m<module>\u001b[0;34m\u001b[0m\n\u001b[0;32m----> 1\u001b[0;31m \u001b[0mmodel\u001b[0m\u001b[0;34m.\u001b[0m\u001b[0madd\u001b[0m\u001b[0;34m(\u001b[0m\u001b[0mEmbedding\u001b[0m \u001b[0;34m(\u001b[0m\u001b[0mvocab_size\u001b[0m\u001b[0;34m,\u001b[0m \u001b[0mEMBEDDING_DIM\u001b[0m\u001b[0;34m,\u001b[0m \u001b[0minput_length\u001b[0m \u001b[0;34m=\u001b[0m \u001b[0mmax_length\u001b[0m\u001b[0;34m)\u001b[0m\u001b[0;34m)\u001b[0m\u001b[0;34m\u001b[0m\u001b[0;34m\u001b[0m\u001b[0m\n\u001b[0m",
      "\u001b[0;31mNameError\u001b[0m: name 'vocab_size' is not defined"
     ]
    }
   ],
   "source": [
    "model.add(Embedding (vocab_size, EMBEDDING_DIM, input_length = max_length))"
   ]
  },
  {
   "cell_type": "code",
   "execution_count": 30,
   "metadata": {},
   "outputs": [
    {
     "name": "stdout",
     "output_type": "stream",
     "text": [
      "022014 cornynpftexasemails\n",
      "\n",
      "Emails, Drew Brandewie, communications director, John Cornyn campaign, Feb. 6, 2014\n",
      "\n",
      "1:06 p.m.\n",
      "\n",
      "When the Senate immigration bill was voted on in the Judiciary committee, Sen. Cornyn voted against it\n",
      "\n",
      "The senior Texas senator opposed the bipartisan immigration plan when it cleared the Judiciary Committee on a 13-5 vote last month. http://trailblazersblog.dallasnews.com/2013/06/sen-john-cornyn-on-immigration-deal-not-a-picasso-that-cant-be-touched-pushes-tighter-border-measures.html/\n",
      "\n",
      "When the Senate voted to invoke cloture and move to a final vote (end the filibuster) on the bill, Sen. Cornyn voted against the motion\n",
      "\n",
      "Earlier today, both Texans also voted against bringing the bill to a final vote. The votes were no surprise. Both openly opposed the bill. http://trailblazersblog.dallasnews.com/2013/06/cornyn-cruz-vote-no-on-senate-immigration-reform-bill.html/\n",
      "\n",
      "· RC vote: http://www.senate.gov/legislative/LIS/roll_call_lists/roll_call_vote_cfm.cfm?congress=113&session=1&vote=00167\n",
      "\n",
      "And when the Senate immigration bill came up for final passage on the Senate floor, he voted against it\n",
      "\n",
      "Texas Republican Sens. John Cornyn and Ted Cruz both voted against the Senate immigration reform bill that passed this afternoon, 68-32. http://trailblazersblog.dallasnews.com/2013/06/cornyn-cruz-vote-no-on-senate-immigration-reform-bill.html/\n",
      "\n",
      "· RC vote: http://www.senate.gov/legislative/LIS/roll_call_lists/roll_call_vote_cfm.cfm?congress=113&session=1&vote=00168\n",
      "\n",
      "Drew\n",
      "\n",
      "5:16 p.m.\n",
      "\n",
      "After voting against the legislation in Judiciary committee, this is what he said at the time on the procedural vote: Cornyn voted to proceed on the bill so he could offer his amendment.\"The bottom line is that if border and national security cannot be guaranteed in this bill, I cannot and will not support it,\" Cornyn said. http://www.chron.com/news/houston-texas/houston/article/hed-4594893.php\n",
      "\n",
      "Your account of procedural votes is correct, but that’s not what Stockman is claiming. He is deceptively implying Sen. Cornyn voted for the bill:\n",
      "\n",
      "“You see, Cornyn wants millions of illegal aliens to register to vote because Karl Rove tells him they’ll vote Republican…And as I told you earlier, Cornyn helped Democrats pass amnesty in the Senate last year. Well, I automatically killed that bill in the House with a “blue slip” resolution.”…Cornyn and Obama are working to ram amnesty down your throat.\n",
      "\n",
      "Voting for a procedural motion so you can try to dramatically change a bill you oppose is a far cry from voting for the final legislation that moved to the House. Each time there was a vote on the substance and policy of the full legislation, he voted against it.-------- END OF ARTICLE -------\n",
      "Drips (intravenous fluids or IV)\n",
      "What is a drip?\n",
      "\n",
      "A drip is sometimes known as a cannula, intravenous fluids or IV.\n",
      "\n",
      "It is a short, small plastic tube. A doctor or nurse will use a needle to put the drip into your child's vein. The doctor or nurse will leave the plastic tube in so that fluids and medicines can go directly into the blood. Sometimes a doctor or nurse will also take blood samples using the tube.\n",
      "\n",
      "Why would my child need a drip?\n",
      "\n",
      "The drip will allow your child's fluid or medicines to go directly into a vein quickly. The drip can stay in for several days.\n",
      "\n",
      "Your child will have a drip if they are too sick to swallow fluids and medicines or it is the only way of giving the medicine.\n",
      "\n",
      "How will they put the drip in?\n",
      "\n",
      "The doctor or nurse may put a local anaesthetic patch on the skin first to numb the area where they will put the needle. It takes about 30-60 minutes for the patch to work. If your child needs a drip urgently, there may not be time to wait for the local anaesthetic to work.\n",
      "\n",
      "A doctor or nurse will use a tourniquet (tight band) around your child's arm or leg. A member of your child’s health care team will show you how to hold your child while a doctor or nurse puts a small needle into your child's vein. Once the needle is in the vein, they will take out the needle leaving a plastic tube in the vein. Tape and bandages will hold the plastic tube in place and your child may have a splint (padded board) to keep their hand or foot still.\n",
      "\n",
      "A child's veins are quite small and the doctor or nurse may need to try several veins to get the drip in place. Putting the drip in can hurt. Once the doctor or nurse removes the needle the plastic tube does not cause pain but the area may be uncomfortable.\n",
      "\n",
      "If possible, the doctor or nurse will take blood tests from the needle while they putting it in. If they cannot collect enough blood from the needle, your child will need a separate blood test.\n",
      "\n",
      "What happens next?\n",
      "\n",
      "A doctor or nurse will then attach long tubing or syringes to the drip to deliver fluids and medicines. Often the doctor or nurse will put long tubing into a special (IV) pump on a drip stand that will control the amount of fluid that will go in. Most of the time the long tubing will stay connected and your child will need to take the drip pump and stand wherever they go. The nurses will explain and show your child how to do this.\n",
      "\n",
      "Your child's doctor will discuss with you how long the drip will need to stay in. This will depend on why your child is having the drip, and how quickly they get better.\n",
      "\n",
      "What problems can occur with a drip?\n",
      "\n",
      "Drips can block, leak or become infected. The nurses will regularly check the drip and the area around the drip. The nurses will look for redness, swelling, leakage and pain at the drip site. If there are any problems, they may need to put the drip in again in another spot. At times, a bruise may form when the needle comes out of the vein. This will soon fade.\n",
      "\n",
      "If you are worried, please ask the nurses to check your child's drip.\n",
      "\n",
      "What can I do to help?\n",
      "\n",
      "You can comfort your child by staying with them as the drip is put in. If you cannot stay with your child then a staff member will stay instead.\n",
      "\n",
      "If your child asks about their tests, reassure them and explain in simple terms what is happening and why. Always tell the truth.\n",
      "\n",
      "It is helpful to distract your child by cuddling, telling stories, singing or playing with a toy or game. You can help your child to sit or lie down, whichever they prefer. Remain calm and comfort your child. If you get upset, so will your child. Always praise your child afterward.\n",
      "\n",
      "The staff are there to help you and your child. If you would like more information, please ask the nurse or doctor caring for your child.-------- END OF ARTICLE -------\n"
     ]
    }
   ],
   "source": [
    "# Print two articles\n",
    "directory_in_str = '../data/articles'\n",
    "directory = os.fsencode(directory_in_str)\n",
    "j = 0\n",
    "for file in os.listdir(directory):\n",
    "    filename = os.fsdecode(file)\n",
    "    with open('../data/articles/' + str(filename), 'r') as file:\n",
    "        data = file.read()\n",
    "    print(data + '-------- END OF ARTICLE -------')\n",
    "    j += 1\n",
    "    if j == 2:\n",
    "        break"
   ]
  },
  {
   "cell_type": "code",
   "execution_count": null,
   "metadata": {},
   "outputs": [],
   "source": []
  }
 ],
 "metadata": {
  "kernelspec": {
   "display_name": "Python 3",
   "language": "python",
   "name": "python3"
  },
  "language_info": {
   "codemirror_mode": {
    "name": "ipython",
    "version": 3
   },
   "file_extension": ".py",
   "mimetype": "text/x-python",
   "name": "python",
   "nbconvert_exporter": "python",
   "pygments_lexer": "ipython3",
   "version": "3.7.4"
  }
 },
 "nbformat": 4,
 "nbformat_minor": 4
}
