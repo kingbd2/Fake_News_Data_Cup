{
 "cells": [
  {
   "cell_type": "markdown",
   "metadata": {},
   "source": [
    "# Data Cup Fake News Data Profiling and Parsing"
   ]
  },
  {
   "cell_type": "markdown",
   "metadata": {},
   "source": [
    "## 1. Import packages"
   ]
  },
  {
   "cell_type": "code",
   "execution_count": 1,
   "metadata": {},
   "outputs": [],
   "source": [
    "import os\n",
    "import pandas as pd\n",
    "import numpy as np\n",
    "import json\n",
    "import pandas_profiling"
   ]
  },
  {
   "cell_type": "code",
   "execution_count": 2,
   "metadata": {},
   "outputs": [
    {
     "name": "stderr",
     "output_type": "stream",
     "text": [
      "/home/bking/virtualenvs/Fake_News_Data_Cup-bh3btNcR/lib/python3.7/site-packages/IPython/config.py:13: ShimWarning: The `IPython.config` package has been deprecated since IPython 4.0. You should import from traitlets.config instead.\n",
      "  \"You should import from traitlets.config instead.\", ShimWarning)\n",
      "/home/bking/virtualenvs/Fake_News_Data_Cup-bh3btNcR/lib/python3.7/site-packages/ipycache.py:17: UserWarning: IPython.utils.traitlets has moved to a top-level traitlets package.\n",
      "  from IPython.utils.traitlets import Unicode\n"
     ]
    }
   ],
   "source": [
    "%load_ext ipycache"
   ]
  },
  {
   "cell_type": "markdown",
   "metadata": {},
   "source": [
    "## 2. Prepare training data"
   ]
  },
  {
   "cell_type": "markdown",
   "metadata": {},
   "source": [
    "### 2.1 Load training data\n",
    "\n",
    "Here, we want to load our train.json file and convert the data from json to a pandas dataframe. This makes it easier to wrangle (convert data formats, create new dimensions, and standardize) the data."
   ]
  },
  {
   "cell_type": "code",
   "execution_count": 3,
   "metadata": {},
   "outputs": [
    {
     "name": "stdout",
     "output_type": "stream",
     "text": [
      "[Skipped the cell's code and loaded variables train_dataframe from file '/home/bking/Projects/pipenvs/Fake_News_Data_Cup/train_dataframe.pkl'.]\n"
     ]
    }
   ],
   "source": [
    "%%cache train_dataframe.pkl train_dataframe\n",
    "with open(\"data/train.json\") as f:\n",
    "    train_data = json.load(f)\n",
    "\n",
    "train_dataframe = pd.DataFrame.from_records(train_data)\n",
    "train_dataframe['date'] = pd.to_datetime(train_dataframe['date'])"
   ]
  },
  {
   "cell_type": "code",
   "execution_count": 4,
   "metadata": {},
   "outputs": [
    {
     "name": "stdout",
     "output_type": "stream",
     "text": [
      "Stored 'train_dataframe' (DataFrame)\n"
     ]
    }
   ],
   "source": [
    "%store train_dataframe "
   ]
  },
  {
   "cell_type": "code",
   "execution_count": 5,
   "metadata": {},
   "outputs": [
    {
     "data": {
      "text/html": [
       "<div>\n",
       "<style scoped>\n",
       "    .dataframe tbody tr th:only-of-type {\n",
       "        vertical-align: middle;\n",
       "    }\n",
       "\n",
       "    .dataframe tbody tr th {\n",
       "        vertical-align: top;\n",
       "    }\n",
       "\n",
       "    .dataframe thead th {\n",
       "        text-align: right;\n",
       "    }\n",
       "</style>\n",
       "<table border=\"1\" class=\"dataframe\">\n",
       "  <thead>\n",
       "    <tr style=\"text-align: right;\">\n",
       "      <th></th>\n",
       "      <th>claim</th>\n",
       "      <th>claimant</th>\n",
       "      <th>date</th>\n",
       "      <th>label</th>\n",
       "      <th>related_articles</th>\n",
       "      <th>id</th>\n",
       "    </tr>\n",
       "  </thead>\n",
       "  <tbody>\n",
       "    <tr>\n",
       "      <td>0</td>\n",
       "      <td>A line from George Orwell's novel 1984 predict...</td>\n",
       "      <td></td>\n",
       "      <td>2017-07-17</td>\n",
       "      <td>0</td>\n",
       "      <td>[122094, 122580, 130685, 134765]</td>\n",
       "      <td>0</td>\n",
       "    </tr>\n",
       "    <tr>\n",
       "      <td>1</td>\n",
       "      <td>Maine legislature candidate Leslie Gibson insu...</td>\n",
       "      <td></td>\n",
       "      <td>2018-03-17</td>\n",
       "      <td>2</td>\n",
       "      <td>[106868, 127320, 128060]</td>\n",
       "      <td>1</td>\n",
       "    </tr>\n",
       "    <tr>\n",
       "      <td>2</td>\n",
       "      <td>A 17-year-old girl named Alyssa Carson is bein...</td>\n",
       "      <td></td>\n",
       "      <td>2018-07-18</td>\n",
       "      <td>1</td>\n",
       "      <td>[132130, 132132, 149722]</td>\n",
       "      <td>4</td>\n",
       "    </tr>\n",
       "    <tr>\n",
       "      <td>3</td>\n",
       "      <td>In 1988 author Roald Dahl penned an open lette...</td>\n",
       "      <td></td>\n",
       "      <td>2019-02-04</td>\n",
       "      <td>2</td>\n",
       "      <td>[123254, 123418, 127464]</td>\n",
       "      <td>5</td>\n",
       "    </tr>\n",
       "    <tr>\n",
       "      <td>4</td>\n",
       "      <td>When it comes to fighting terrorism, \"Another ...</td>\n",
       "      <td>Hillary Clinton</td>\n",
       "      <td>2016-03-22</td>\n",
       "      <td>2</td>\n",
       "      <td>[41099, 89899, 72543, 82644, 95344, 88361]</td>\n",
       "      <td>6</td>\n",
       "    </tr>\n",
       "    <tr>\n",
       "      <td>...</td>\n",
       "      <td>...</td>\n",
       "      <td>...</td>\n",
       "      <td>...</td>\n",
       "      <td>...</td>\n",
       "      <td>...</td>\n",
       "      <td>...</td>\n",
       "    </tr>\n",
       "    <tr>\n",
       "      <td>15550</td>\n",
       "      <td>The omnibus spending bill has \"9,427 pork barr...</td>\n",
       "      <td>John McCain</td>\n",
       "      <td>2009-02-25</td>\n",
       "      <td>2</td>\n",
       "      <td>[82947, 93503]</td>\n",
       "      <td>17137</td>\n",
       "    </tr>\n",
       "    <tr>\n",
       "      <td>15551</td>\n",
       "      <td>Representative Maxine Waters said Muslims were...</td>\n",
       "      <td></td>\n",
       "      <td>2017-06-06</td>\n",
       "      <td>0</td>\n",
       "      <td>[103780, 104726, 126025]</td>\n",
       "      <td>17138</td>\n",
       "    </tr>\n",
       "    <tr>\n",
       "      <td>15552</td>\n",
       "      <td>\"We were not, I repeat, were not told that wat...</td>\n",
       "      <td>Nancy Pelosi</td>\n",
       "      <td>2009-04-23</td>\n",
       "      <td>0</td>\n",
       "      <td>[11331, 68915, 2186, 2185, 88418, 81950]</td>\n",
       "      <td>17139</td>\n",
       "    </tr>\n",
       "    <tr>\n",
       "      <td>15553</td>\n",
       "      <td>As of August 2017, members of the public could...</td>\n",
       "      <td></td>\n",
       "      <td>2018-05-14</td>\n",
       "      <td>2</td>\n",
       "      <td>[121353, 152864, 154411]</td>\n",
       "      <td>17140</td>\n",
       "    </tr>\n",
       "    <tr>\n",
       "      <td>15554</td>\n",
       "      <td>\"We don't get any of that information\" from th...</td>\n",
       "      <td>Scott Walker</td>\n",
       "      <td>2016-12-23</td>\n",
       "      <td>1</td>\n",
       "      <td>[69545, 88929, 14698]</td>\n",
       "      <td>17141</td>\n",
       "    </tr>\n",
       "  </tbody>\n",
       "</table>\n",
       "<p>15555 rows × 6 columns</p>\n",
       "</div>"
      ],
      "text/plain": [
       "                                                   claim         claimant  \\\n",
       "0      A line from George Orwell's novel 1984 predict...                    \n",
       "1      Maine legislature candidate Leslie Gibson insu...                    \n",
       "2      A 17-year-old girl named Alyssa Carson is bein...                    \n",
       "3      In 1988 author Roald Dahl penned an open lette...                    \n",
       "4      When it comes to fighting terrorism, \"Another ...  Hillary Clinton   \n",
       "...                                                  ...              ...   \n",
       "15550  The omnibus spending bill has \"9,427 pork barr...      John McCain   \n",
       "15551  Representative Maxine Waters said Muslims were...                    \n",
       "15552  \"We were not, I repeat, were not told that wat...     Nancy Pelosi   \n",
       "15553  As of August 2017, members of the public could...                    \n",
       "15554  \"We don't get any of that information\" from th...     Scott Walker   \n",
       "\n",
       "            date  label                            related_articles     id  \n",
       "0     2017-07-17      0            [122094, 122580, 130685, 134765]      0  \n",
       "1     2018-03-17      2                    [106868, 127320, 128060]      1  \n",
       "2     2018-07-18      1                    [132130, 132132, 149722]      4  \n",
       "3     2019-02-04      2                    [123254, 123418, 127464]      5  \n",
       "4     2016-03-22      2  [41099, 89899, 72543, 82644, 95344, 88361]      6  \n",
       "...          ...    ...                                         ...    ...  \n",
       "15550 2009-02-25      2                              [82947, 93503]  17137  \n",
       "15551 2017-06-06      0                    [103780, 104726, 126025]  17138  \n",
       "15552 2009-04-23      0    [11331, 68915, 2186, 2185, 88418, 81950]  17139  \n",
       "15553 2018-05-14      2                    [121353, 152864, 154411]  17140  \n",
       "15554 2016-12-23      1                       [69545, 88929, 14698]  17141  \n",
       "\n",
       "[15555 rows x 6 columns]"
      ]
     },
     "execution_count": 5,
     "metadata": {},
     "output_type": "execute_result"
    }
   ],
   "source": [
    "train_dataframe"
   ]
  },
  {
   "cell_type": "markdown",
   "metadata": {},
   "source": [
    "### 2.2 Convert 'date' column to date data type"
   ]
  },
  {
   "cell_type": "markdown",
   "metadata": {},
   "source": [
    "Change date field to datetime data type YYYY-MM-DD. For more information: https://pandas.pydata.org/pandas-docs/stable/reference/api/pandas.to_datetime.html"
   ]
  },
  {
   "cell_type": "markdown",
   "metadata": {},
   "source": [
    "### 2.3 Profile the training data"
   ]
  },
  {
   "cell_type": "markdown",
   "metadata": {},
   "source": [
    "Use pandas_profiling: https://github.com/pandas-profiling/pandas-profiling"
   ]
  },
  {
   "cell_type": "code",
   "execution_count": 16,
   "metadata": {},
   "outputs": [],
   "source": [
    "df.profile_report(style={'full_width':True})\n",
    "profile = df.profile_report(title='Fake News Data Profile')\n",
    "# profile.to_file(output_file=\"data_profile.html\")"
   ]
  },
  {
   "cell_type": "code",
   "execution_count": 8,
   "metadata": {},
   "outputs": [
    {
     "ename": "NameError",
     "evalue": "name 'profile' is not defined",
     "output_type": "error",
     "traceback": [
      "\u001b[0;31m---------------------------------------------------------------------------\u001b[0m",
      "\u001b[0;31mNameError\u001b[0m                                 Traceback (most recent call last)",
      "\u001b[0;32m<ipython-input-8-f9dbdb59857a>\u001b[0m in \u001b[0;36m<module>\u001b[0;34m\u001b[0m\n\u001b[0;32m----> 1\u001b[0;31m \u001b[0mprofile\u001b[0m\u001b[0;34m\u001b[0m\u001b[0;34m\u001b[0m\u001b[0m\n\u001b[0m",
      "\u001b[0;31mNameError\u001b[0m: name 'profile' is not defined"
     ]
    }
   ],
   "source": [
    "profile"
   ]
  },
  {
   "cell_type": "markdown",
   "metadata": {},
   "source": [
    "Information about the dataset:\n",
    "- 0: false, 1: partly true, 2: true\n",
    "- “claimant”: entity who made the claim"
   ]
  },
  {
   "cell_type": "markdown",
   "metadata": {},
   "source": [
    "# 3. Load and process articles to generate corpora"
   ]
  },
  {
   "cell_type": "markdown",
   "metadata": {},
   "source": [
    "### 3.1 Build dataframe of article text and article id"
   ]
  },
  {
   "cell_type": "code",
   "execution_count": 6,
   "metadata": {},
   "outputs": [
    {
     "name": "stdout",
     "output_type": "stream",
     "text": [
      "[Saved variables 'article_df' to file '/home/bking/Projects/pipenvs/Fake_News_Data_Cup/article_df.pkl'.]\n"
     ]
    }
   ],
   "source": [
    "%%cache article_df.pkl article_df\n",
    "\n",
    "path_to_articles = r\"/media/bking/data/Datasets/fakenews_datacup/train_articles/\"\n",
    "\n",
    "# Build lists of article id and article text\n",
    "article_id_list = []\n",
    "article_text_list = []\n",
    "for index, article_file in enumerate(os.scandir(path_to_articles)):\n",
    "    article_path = str(article_file.path)\n",
    "    article_id = int(''.join(list(filter(str.isdigit, article_path))))\n",
    "    \n",
    "    with open(article_path) as f:\n",
    "         text = f.read()\n",
    "    \n",
    "    article_id_list.append(article_id)\n",
    "    article_text_list.append(text)\n",
    "#     if index == 3:\n",
    "#         break\n",
    "#     print(article_id)\n",
    "\n",
    "# Construct dataframe\n",
    "zippedList =  list(zip(article_id_list, article_text_list))\n",
    "article_df = pd.DataFrame(zippedList, columns = ['id' , 'text'])  \n",
    "# article_df.set_index(id, drop=True, append=False, inplace=False, verify_integrity=False)"
   ]
  },
  {
   "cell_type": "markdown",
   "metadata": {},
   "source": [
    "### 3.2 Store initial data for other steps "
   ]
  },
  {
   "cell_type": "code",
   "execution_count": 26,
   "metadata": {},
   "outputs": [
    {
     "name": "stdout",
     "output_type": "stream",
     "text": [
      "Stored 'article_df' (DataFrame)\n"
     ]
    }
   ],
   "source": [
    "%store article_df "
   ]
  }
 ],
 "metadata": {
  "kernelspec": {
   "display_name": "Python 3",
   "language": "python",
   "name": "python3"
  },
  "language_info": {
   "codemirror_mode": {
    "name": "ipython",
    "version": 3
   },
   "file_extension": ".py",
   "mimetype": "text/x-python",
   "name": "python",
   "nbconvert_exporter": "python",
   "pygments_lexer": "ipython3",
   "version": "3.7.4"
  }
 },
 "nbformat": 4,
 "nbformat_minor": 4
}
