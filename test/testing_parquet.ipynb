{
 "cells": [
  {
   "cell_type": "code",
   "execution_count": 18,
   "metadata": {},
   "outputs": [],
   "source": [
    "import pandas as pd\n",
    "import numpy as np\n",
    "import pyarrow as pa\n",
    "import pyarrow.parquet as pq"
   ]
  },
  {
   "cell_type": "code",
   "execution_count": 3,
   "metadata": {},
   "outputs": [
    {
     "data": {
      "text/plain": [
       "<module 'pyarrow' from 'c:\\\\users\\\\kingb\\\\projects\\\\poetry\\\\fake_news_data_cup\\\\.venv\\\\lib\\\\site-packages\\\\pyarrow\\\\__init__.py'>"
      ]
     },
     "execution_count": 3,
     "metadata": {},
     "output_type": "execute_result"
    }
   ],
   "source": [
    "pa"
   ]
  },
  {
   "cell_type": "code",
   "execution_count": 4,
   "metadata": {},
   "outputs": [],
   "source": [
    "di = {'one': [20, np.nan, 2.5],'two': ['january', 'february', 'march'],'three': [True, False, True]}"
   ]
  },
  {
   "cell_type": "code",
   "execution_count": 5,
   "metadata": {},
   "outputs": [
    {
     "data": {
      "text/plain": [
       "{'one': [20, nan, 2.5],\n",
       " 'two': ['january', 'february', 'march'],\n",
       " 'three': [True, False, True]}"
      ]
     },
     "execution_count": 5,
     "metadata": {},
     "output_type": "execute_result"
    }
   ],
   "source": [
    "di"
   ]
  },
  {
   "cell_type": "code",
   "execution_count": 8,
   "metadata": {},
   "outputs": [],
   "source": [
    "df = pd.DataFrame(di, index=list('abc'))"
   ]
  },
  {
   "cell_type": "code",
   "execution_count": 9,
   "metadata": {},
   "outputs": [
    {
     "data": {
      "text/html": [
       "<div>\n",
       "<style scoped>\n",
       "    .dataframe tbody tr th:only-of-type {\n",
       "        vertical-align: middle;\n",
       "    }\n",
       "\n",
       "    .dataframe tbody tr th {\n",
       "        vertical-align: top;\n",
       "    }\n",
       "\n",
       "    .dataframe thead th {\n",
       "        text-align: right;\n",
       "    }\n",
       "</style>\n",
       "<table border=\"1\" class=\"dataframe\">\n",
       "  <thead>\n",
       "    <tr style=\"text-align: right;\">\n",
       "      <th></th>\n",
       "      <th>one</th>\n",
       "      <th>two</th>\n",
       "      <th>three</th>\n",
       "    </tr>\n",
       "  </thead>\n",
       "  <tbody>\n",
       "    <tr>\n",
       "      <th>a</th>\n",
       "      <td>20.0</td>\n",
       "      <td>january</td>\n",
       "      <td>True</td>\n",
       "    </tr>\n",
       "    <tr>\n",
       "      <th>b</th>\n",
       "      <td>NaN</td>\n",
       "      <td>february</td>\n",
       "      <td>False</td>\n",
       "    </tr>\n",
       "    <tr>\n",
       "      <th>c</th>\n",
       "      <td>2.5</td>\n",
       "      <td>march</td>\n",
       "      <td>True</td>\n",
       "    </tr>\n",
       "  </tbody>\n",
       "</table>\n",
       "</div>"
      ],
      "text/plain": [
       "    one       two  three\n",
       "a  20.0   january   True\n",
       "b   NaN  february  False\n",
       "c   2.5     march   True"
      ]
     },
     "execution_count": 9,
     "metadata": {},
     "output_type": "execute_result"
    }
   ],
   "source": [
    "df"
   ]
  },
  {
   "cell_type": "code",
   "execution_count": 10,
   "metadata": {},
   "outputs": [],
   "source": [
    "table = pa.Table.from_pandas(df)"
   ]
  },
  {
   "cell_type": "code",
   "execution_count": 17,
   "metadata": {},
   "outputs": [
    {
     "data": {
      "text/plain": [
       "pyarrow.Table\n",
       "one: double\n",
       "two: string\n",
       "three: bool\n",
       "__index_level_0__: string\n",
       "metadata\n",
       "--------\n",
       "{b'pandas': b'{\"index_columns\": [\"__index_level_0__\"], \"column_indexes\": [{\"na'\n",
       "            b'me\": null, \"field_name\": null, \"pandas_type\": \"unicode\", \"numpy_'\n",
       "            b'type\": \"object\", \"metadata\": {\"encoding\": \"UTF-8\"}}], \"columns\":'\n",
       "            b' [{\"name\": \"one\", \"field_name\": \"one\", \"pandas_type\": \"float64\",'\n",
       "            b' \"numpy_type\": \"float64\", \"metadata\": null}, {\"name\": \"two\", \"fi'\n",
       "            b'eld_name\": \"two\", \"pandas_type\": \"unicode\", \"numpy_type\": \"objec'\n",
       "            b't\", \"metadata\": null}, {\"name\": \"three\", \"field_name\": \"three\", '\n",
       "            b'\"pandas_type\": \"bool\", \"numpy_type\": \"bool\", \"metadata\": null}, '\n",
       "            b'{\"name\": null, \"field_name\": \"__index_level_0__\", \"pandas_type\":'\n",
       "            b' \"unicode\", \"numpy_type\": \"object\", \"metadata\": null}], \"creator'\n",
       "            b'\": {\"library\": \"pyarrow\", \"version\": \"0.15.1\"}, \"pandas_version\"'\n",
       "            b': \"0.25.2\"}'}"
      ]
     },
     "execution_count": 17,
     "metadata": {},
     "output_type": "execute_result"
    }
   ],
   "source": [
    "table"
   ]
  },
  {
   "cell_type": "code",
   "execution_count": 24,
   "metadata": {},
   "outputs": [],
   "source": [
    "pq.write_table(table, 'test/example.parquet')"
   ]
  },
  {
   "cell_type": "code",
   "execution_count": 28,
   "metadata": {},
   "outputs": [],
   "source": [
    "def log_model_metrics(parquet_file, metrics=1):\n",
    "    try:\n",
    "        table = pq.read_table(parquet_file)\n",
    "        print(table.schema)\n",
    "    except:\n",
    "        print(\"There is no parquet file with that name\")\n",
    "    finally:\n",
    "        print(\"Finished logging\")"
   ]
  },
  {
   "cell_type": "code",
   "execution_count": 29,
   "metadata": {},
   "outputs": [
    {
     "name": "stdout",
     "output_type": "stream",
     "text": [
      "one: double\n",
      "two: string\n",
      "three: bool\n",
      "__index_level_0__: string\n",
      "metadata\n",
      "--------\n",
      "{b'pandas': b'{\"index_columns\": [\"__index_level_0__\"], \"column_indexes\": [{\"na'\n",
      "            b'me\": null, \"field_name\": null, \"pandas_type\": \"unicode\", \"numpy_'\n",
      "            b'type\": \"object\", \"metadata\": {\"encoding\": \"UTF-8\"}}], \"columns\":'\n",
      "            b' [{\"name\": \"one\", \"field_name\": \"one\", \"pandas_type\": \"float64\",'\n",
      "            b' \"numpy_type\": \"float64\", \"metadata\": null}, {\"name\": \"two\", \"fi'\n",
      "            b'eld_name\": \"two\", \"pandas_type\": \"unicode\", \"numpy_type\": \"objec'\n",
      "            b't\", \"metadata\": null}, {\"name\": \"three\", \"field_name\": \"three\", '\n",
      "            b'\"pandas_type\": \"bool\", \"numpy_type\": \"bool\", \"metadata\": null}, '\n",
      "            b'{\"name\": null, \"field_name\": \"__index_level_0__\", \"pandas_type\":'\n",
      "            b' \"unicode\", \"numpy_type\": \"object\", \"metadata\": null}], \"creator'\n",
      "            b'\": {\"library\": \"pyarrow\", \"version\": \"0.15.1\"}, \"pandas_version\"'\n",
      "            b': \"0.25.2\"}'}\n",
      "Finished logging\n"
     ]
    }
   ],
   "source": [
    "log_model_metrics('test/example.parquet')"
   ]
  },
  {
   "cell_type": "code",
   "execution_count": null,
   "metadata": {},
   "outputs": [],
   "source": []
  }
 ],
 "metadata": {
  "kernelspec": {
   "display_name": "Fake_News_Data_Cup",
   "language": "python",
   "name": "fake_news_data_cup"
  },
  "language_info": {
   "codemirror_mode": {
    "name": "ipython",
    "version": 3
   },
   "file_extension": ".py",
   "mimetype": "text/x-python",
   "name": "python",
   "nbconvert_exporter": "python",
   "pygments_lexer": "ipython3",
   "version": "3.7.5"
  }
 },
 "nbformat": 4,
 "nbformat_minor": 4
}
