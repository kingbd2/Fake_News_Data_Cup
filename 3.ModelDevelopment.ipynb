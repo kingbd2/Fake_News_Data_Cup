{
 "cells": [
  {
   "cell_type": "markdown",
   "metadata": {},
   "source": [
    "# Model Development"
   ]
  },
  {
   "cell_type": "markdown",
   "metadata": {},
   "source": [
    "Begin documenting models"
   ]
  },
  {
   "cell_type": "code",
   "execution_count": 5,
   "metadata": {},
   "outputs": [],
   "source": [
    "import pandas as pd\n",
    "import numpy as np\n",
    "import matplotlib.pyplot as plt\n",
    "from sklearn.preprocessing import StandardScaler\n",
    "import string, re\n",
    "import pandas_profiling\n",
    "import itertools \n",
    "import local_modules.slack as slack\n",
    "from progressbar import Bar, BouncingBar, Counter, ETA, \\\n",
    "    AdaptiveETA, FileTransferSpeed, FormatLabel, Percentage, \\\n",
    "    ProgressBar, ReverseBar, RotatingMarker, \\\n",
    "    SimpleProgress, Timer, UnknownLength\n",
    "pbar = ProgressBar()\n",
    "%store -r train_features   \n",
    "%store -r test_features\n",
    "%store -r train_labels\n",
    "%store -r test_labels"
   ]
  },
  {
   "cell_type": "code",
   "execution_count": 9,
   "metadata": {},
   "outputs": [
    {
     "data": {
      "text/html": [
       "<div>\n",
       "<style scoped>\n",
       "    .dataframe tbody tr th:only-of-type {\n",
       "        vertical-align: middle;\n",
       "    }\n",
       "\n",
       "    .dataframe tbody tr th {\n",
       "        vertical-align: top;\n",
       "    }\n",
       "\n",
       "    .dataframe thead th {\n",
       "        text-align: right;\n",
       "    }\n",
       "</style>\n",
       "<table border=\"1\" class=\"dataframe\">\n",
       "  <thead>\n",
       "    <tr style=\"text-align: right;\">\n",
       "      <th></th>\n",
       "      <th>mean_pos</th>\n",
       "      <th>mean_neg</th>\n",
       "      <th>mean_neu</th>\n",
       "      <th>mean_comp</th>\n",
       "      <th>mean_brevity</th>\n",
       "      <th>var_pos</th>\n",
       "      <th>var_neg</th>\n",
       "      <th>var_neu</th>\n",
       "      <th>var_comp</th>\n",
       "      <th>var_brevity</th>\n",
       "    </tr>\n",
       "  </thead>\n",
       "  <tbody>\n",
       "    <tr>\n",
       "      <th>count</th>\n",
       "      <td>11666.000000</td>\n",
       "      <td>11666.000000</td>\n",
       "      <td>11666.000000</td>\n",
       "      <td>11666.000000</td>\n",
       "      <td>11666.000000</td>\n",
       "      <td>11666.000000</td>\n",
       "      <td>11666.000000</td>\n",
       "      <td>11666.000000</td>\n",
       "      <td>11666.000000</td>\n",
       "      <td>11666.000000</td>\n",
       "    </tr>\n",
       "    <tr>\n",
       "      <th>mean</th>\n",
       "      <td>-0.001574</td>\n",
       "      <td>-0.001900</td>\n",
       "      <td>0.000470</td>\n",
       "      <td>0.001685</td>\n",
       "      <td>0.000516</td>\n",
       "      <td>0.000019</td>\n",
       "      <td>0.000126</td>\n",
       "      <td>-0.002055</td>\n",
       "      <td>-0.003079</td>\n",
       "      <td>-0.002389</td>\n",
       "    </tr>\n",
       "    <tr>\n",
       "      <th>std</th>\n",
       "      <td>1.001859</td>\n",
       "      <td>1.001466</td>\n",
       "      <td>1.002950</td>\n",
       "      <td>0.999586</td>\n",
       "      <td>1.003287</td>\n",
       "      <td>1.015532</td>\n",
       "      <td>1.000176</td>\n",
       "      <td>1.002070</td>\n",
       "      <td>0.999756</td>\n",
       "      <td>1.002265</td>\n",
       "    </tr>\n",
       "    <tr>\n",
       "      <th>min</th>\n",
       "      <td>-1.567748</td>\n",
       "      <td>-1.231870</td>\n",
       "      <td>-2.062887</td>\n",
       "      <td>-2.736960</td>\n",
       "      <td>-2.066096</td>\n",
       "      <td>-0.971959</td>\n",
       "      <td>-0.782630</td>\n",
       "      <td>-1.772377</td>\n",
       "      <td>-1.299517</td>\n",
       "      <td>-1.739571</td>\n",
       "    </tr>\n",
       "    <tr>\n",
       "      <th>25%</th>\n",
       "      <td>-0.674838</td>\n",
       "      <td>-0.702187</td>\n",
       "      <td>-0.591998</td>\n",
       "      <td>-0.594007</td>\n",
       "      <td>-0.581955</td>\n",
       "      <td>-0.649149</td>\n",
       "      <td>-0.652940</td>\n",
       "      <td>-0.369908</td>\n",
       "      <td>-0.523417</td>\n",
       "      <td>-0.306607</td>\n",
       "    </tr>\n",
       "    <tr>\n",
       "      <th>50%</th>\n",
       "      <td>-0.114089</td>\n",
       "      <td>-0.195896</td>\n",
       "      <td>-0.043646</td>\n",
       "      <td>0.065166</td>\n",
       "      <td>-0.062560</td>\n",
       "      <td>-0.241507</td>\n",
       "      <td>-0.334137</td>\n",
       "      <td>0.295879</td>\n",
       "      <td>-0.170830</td>\n",
       "      <td>0.300050</td>\n",
       "    </tr>\n",
       "    <tr>\n",
       "      <th>75%</th>\n",
       "      <td>0.540721</td>\n",
       "      <td>0.473166</td>\n",
       "      <td>0.619920</td>\n",
       "      <td>0.790638</td>\n",
       "      <td>0.601749</td>\n",
       "      <td>0.345403</td>\n",
       "      <td>0.263801</td>\n",
       "      <td>0.694188</td>\n",
       "      <td>0.414546</td>\n",
       "      <td>0.598856</td>\n",
       "    </tr>\n",
       "    <tr>\n",
       "      <th>max</th>\n",
       "      <td>5.129080</td>\n",
       "      <td>6.284208</td>\n",
       "      <td>2.589215</td>\n",
       "      <td>2.052655</td>\n",
       "      <td>4.526903</td>\n",
       "      <td>18.140452</td>\n",
       "      <td>12.954127</td>\n",
       "      <td>2.262017</td>\n",
       "      <td>3.833242</td>\n",
       "      <td>6.032057</td>\n",
       "    </tr>\n",
       "  </tbody>\n",
       "</table>\n",
       "</div>"
      ],
      "text/plain": [
       "           mean_pos      mean_neg      mean_neu     mean_comp  mean_brevity  \\\n",
       "count  11666.000000  11666.000000  11666.000000  11666.000000  11666.000000   \n",
       "mean      -0.001574     -0.001900      0.000470      0.001685      0.000516   \n",
       "std        1.001859      1.001466      1.002950      0.999586      1.003287   \n",
       "min       -1.567748     -1.231870     -2.062887     -2.736960     -2.066096   \n",
       "25%       -0.674838     -0.702187     -0.591998     -0.594007     -0.581955   \n",
       "50%       -0.114089     -0.195896     -0.043646      0.065166     -0.062560   \n",
       "75%        0.540721      0.473166      0.619920      0.790638      0.601749   \n",
       "max        5.129080      6.284208      2.589215      2.052655      4.526903   \n",
       "\n",
       "            var_pos       var_neg       var_neu      var_comp   var_brevity  \n",
       "count  11666.000000  11666.000000  11666.000000  11666.000000  11666.000000  \n",
       "mean       0.000019      0.000126     -0.002055     -0.003079     -0.002389  \n",
       "std        1.015532      1.000176      1.002070      0.999756      1.002265  \n",
       "min       -0.971959     -0.782630     -1.772377     -1.299517     -1.739571  \n",
       "25%       -0.649149     -0.652940     -0.369908     -0.523417     -0.306607  \n",
       "50%       -0.241507     -0.334137      0.295879     -0.170830      0.300050  \n",
       "75%        0.345403      0.263801      0.694188      0.414546      0.598856  \n",
       "max       18.140452     12.954127      2.262017      3.833242      6.032057  "
      ]
     },
     "execution_count": 9,
     "metadata": {},
     "output_type": "execute_result"
    }
   ],
   "source": [
    "train_features.describe()"
   ]
  },
  {
   "cell_type": "code",
   "execution_count": 10,
   "metadata": {},
   "outputs": [
    {
     "data": {
      "text/plain": [
       "count    11666.000000\n",
       "mean         0.635093\n",
       "std          0.671481\n",
       "min          0.000000\n",
       "25%          0.000000\n",
       "50%          1.000000\n",
       "75%          1.000000\n",
       "max          2.000000\n",
       "Name: label, dtype: float64"
      ]
     },
     "execution_count": 10,
     "metadata": {},
     "output_type": "execute_result"
    }
   ],
   "source": [
    "train_labels.describe()"
   ]
  },
  {
   "cell_type": "markdown",
   "metadata": {},
   "source": [
    "## Sample model #1: Random Forest"
   ]
  },
  {
   "cell_type": "markdown",
   "metadata": {},
   "source": [
    "Testing a random forest model on predicting fake news"
   ]
  },
  {
   "cell_type": "code",
   "execution_count": 31,
   "metadata": {},
   "outputs": [],
   "source": [
    "# Import the model we are using\n",
    "\n",
    "from sklearn.ensemble import RandomForestClassifier\n",
    "classifier = RandomForestClassifier(n_estimators = 1000, criterion = 'entropy', random_state = 0)\n",
    "classifier.fit(train_features, train_labels)\n",
    "\n",
    "# from sklearn.ensemble import RandomForestRegressor\n",
    "# rf = RandomForestRegressor(n_estimators = 1000, oob_score = True,\n",
    "#                            bootstrap = True, random_state = 42) # Instantiate model with 1000 decision trees\n",
    "# rf.fit(train_features, train_labels) # Train the model on training data\n",
    "slack.SlackNotification('BK_slackbot', 'Random forest has finished training.')"
   ]
  },
  {
   "cell_type": "code",
   "execution_count": 32,
   "metadata": {},
   "outputs": [],
   "source": [
    "predictions = classifier.predict(test_features)\n",
    "from sklearn.metrics import confusion_matrix\n",
    "cm = confusion_matrix(test_labels, predictions)"
   ]
  },
  {
   "cell_type": "code",
   "execution_count": 33,
   "metadata": {},
   "outputs": [
    {
     "data": {
      "text/plain": [
       "array([[1254,  610,    9],\n",
       "       [ 863,  720,   15],\n",
       "       [ 254,  155,    9]])"
      ]
     },
     "execution_count": 33,
     "metadata": {},
     "output_type": "execute_result"
    }
   ],
   "source": [
    "cm"
   ]
  },
  {
   "cell_type": "code",
   "execution_count": 34,
   "metadata": {},
   "outputs": [],
   "source": [
    "def plot_confusion_matrix(cm, classes,\n",
    "                          normalize=False,\n",
    "                          title='Confusion matrix',\n",
    "                          cmap=plt.cm.Blues):\n",
    "    \"\"\"\n",
    "    This function prints and plots the confusion matrix.\n",
    "    Normalization can be applied by setting `normalize=True`.\n",
    "    \"\"\"\n",
    "    if normalize:\n",
    "        cm = cm.astype('float') / cm.sum(axis=1)[:, np.newaxis]\n",
    "        print(\"Normalized confusion matrix\")\n",
    "    else:\n",
    "        print('Confusion matrix, without normalization')\n",
    "\n",
    "    print(cm)\n",
    "\n",
    "    plt.imshow(cm, interpolation='nearest', cmap=cmap)\n",
    "    plt.title(title)\n",
    "    plt.colorbar()\n",
    "    tick_marks = np.arange(len(classes))\n",
    "    plt.xticks(tick_marks, classes, rotation=45)\n",
    "    plt.yticks(tick_marks, classes)\n",
    "\n",
    "    fmt = '.2f' if normalize else 'd'\n",
    "    thresh = cm.max() / 2.\n",
    "    for i, j in itertools.product(range(cm.shape[0]), range(cm.shape[1])):\n",
    "        plt.text(j, i, format(cm[i, j], fmt),\n",
    "                 horizontalalignment=\"center\",\n",
    "                 color=\"white\" if cm[i, j] > thresh else \"black\")\n",
    "\n",
    "    plt.ylabel('True label')\n",
    "    plt.xlabel('Predicted label')\n",
    "#     plt.tight_layout()"
   ]
  },
  {
   "cell_type": "code",
   "execution_count": 35,
   "metadata": {},
   "outputs": [
    {
     "name": "stdout",
     "output_type": "stream",
     "text": [
      "Confusion matrix, without normalization\n",
      "[[1254  610    9]\n",
      " [ 863  720   15]\n",
      " [ 254  155    9]]\n"
     ]
    },
    {
     "data": {
      "image/png": "[encoded data removed]",
      "text/plain": [
       "<Figure size 432x288 with 2 Axes>"
      ]
     },
     "metadata": {
      "needs_background": "light"
     },
     "output_type": "display_data"
    }
   ],
   "source": [
    "cnf_matrix = cm\n",
    "np.set_printoptions(precision=2)\n",
    "\n",
    "# Plot non-normalized confusion matrix\n",
    "plt.figure()\n",
    "plot_confusion_matrix(cnf_matrix, classes=['False', 'Partial', 'True'],\n",
    "                      title='Confusion matrix, without normalization')"
   ]
  },
  {
   "cell_type": "code",
   "execution_count": 36,
   "metadata": {},
   "outputs": [
    {
     "name": "stdout",
     "output_type": "stream",
     "text": [
      "Training accuracy is:  0.9591976684381964\n",
      "Test accuracy is:  0.5098997171509385\n"
     ]
    }
   ],
   "source": [
    "from sklearn.metrics import accuracy_score\n",
    "predictions = classifier.predict(test_features)\n",
    "print(\"Training accuracy is: \", accuracy_score(train_labels, classifier.predict(train_features)))\n",
    "print(\"Test accuracy is: \", accuracy_score(test_labels, predictions))"
   ]
  },
  {
   "cell_type": "markdown",
   "metadata": {},
   "source": [
    "BAD MODEL"
   ]
  },
  {
   "cell_type": "markdown",
   "metadata": {},
   "source": [
    "## Brute force models using Hunga Bunga"
   ]
  },
  {
   "cell_type": "code",
   "execution_count": 4,
   "metadata": {},
   "outputs": [],
   "source": [
    "from local_modules.hunga_bunga import HungaBungaClassifier"
   ]
  },
  {
   "cell_type": "code",
   "execution_count": null,
   "metadata": {},
   "outputs": [
    {
     "name": "stdout",
     "output_type": "stream",
     "text": [
      "Scoring criteria: accuracy\n",
      "--------------- model 1/15 ---------------\n",
      "SGDClassifier\n",
      "--------------- model 2/15 ---------------\n",
      "LogisticRegression\n",
      "--------------- model 3/15 ---------------\n",
      "Perceptron\n",
      "--------------- model 4/15 ---------------\n",
      "PassiveAggressiveClassifier\n",
      "--------------- model 5/15 ---------------\n",
      "MLPClassifier\n",
      "best score: 0.5143958868894601 time/clf: 2.819 seconds\n",
      "best params:\n",
      "{'activation': 'tanh',\n",
      " 'batch_size': 50,\n",
      " 'early_stopping': True,\n",
      " 'hidden_layer_sizes': (64,),\n",
      " 'learning_rate': 'invscaling',\n",
      " 'max_iter': 500}\n",
      "--------------- model 6/15 ---------------\n",
      "KMeans\n",
      "best score: 0.407369323050557 time/clf: 0.149 seconds\n",
      "best params:\n",
      "{'algorithm': 'elkan', 'init': 'random', 'n_clusters': 3}\n",
      "--------------- model 7/15 ---------------\n",
      "KNeighborsClassifier\n",
      "--------------- model 8/15 ---------------\n",
      "NearestCentroid\n",
      "best score: 0.4011139674378749 time/clf: 0.004 seconds\n",
      "best params:\n",
      "{'metric': 'manhattan', 'shrink_threshold': 2}\n",
      "--------------- model 9/15 ---------------\n",
      "RadiusNeighborsClassifier\n",
      "--------------- model 10/15 ---------------\n",
      "SVC\n"
     ]
    }
   ],
   "source": [
    "clf = HungaBungaClassifier(brain=True)\n",
    "clf.fit(train_features, train_labels)"
   ]
  },
  {
   "cell_type": "code",
   "execution_count": null,
   "metadata": {},
   "outputs": [],
   "source": []
  }
 ],
 "metadata": {
  "kernelspec": {
   "display_name": "Fake_News_Data_Cup",
   "language": "python",
   "name": "fake_news_data_cup"
  },
  "language_info": {
   "codemirror_mode": {
    "name": "ipython",
    "version": 3
   },
   "file_extension": ".py",
   "mimetype": "text/x-python",
   "name": "python",
   "nbconvert_exporter": "python",
   "pygments_lexer": "ipython3",
   "version": "3.7.4"
  }
 },
 "nbformat": 4,
 "nbformat_minor": 4
}
